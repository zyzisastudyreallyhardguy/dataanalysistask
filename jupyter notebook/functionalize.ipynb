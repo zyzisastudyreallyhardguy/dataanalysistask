{
 "cells": [
  {
   "cell_type": "code",
   "execution_count": 66,
   "metadata": {},
   "outputs": [],
   "source": [
    "import pandas as pd\n",
    "import re"
   ]
  },
  {
   "cell_type": "code",
   "execution_count": 67,
   "metadata": {},
   "outputs": [],
   "source": [
    "#some initial data cleaning work\n",
    "def initial_cleaning(df):\n",
    "    df.fillna('unknown', inplace=True)\n",
    "    df.drop_duplicates(inplace=True)"
   ]
  },
  {
   "cell_type": "code",
   "execution_count": 68,
   "metadata": {},
   "outputs": [],
   "source": [
    "#a tool function for cleaning repeated ce;;s\n",
    "def apply_repeated(x):\n",
    "    middle = len(x)//2\n",
    "    if x != 'unknown':\n",
    "        return x[:middle + 1]\n",
    "    else:\n",
    "        return 'unknown'"
   ]
  },
  {
   "cell_type": "code",
   "execution_count": 69,
   "metadata": {},
   "outputs": [],
   "source": [
    "#modify the location and area column\n",
    "def location_area(df,location_index):\n",
    "    df[['location','area']] = df[location_index].str.split('area:', expand = True)\n",
    "    df.drop(location_index, axis = 1, inplace = True)\n",
    "    df['area'].fillna('unknown', inplace = True)\n",
    "    df['location'] = df['location'].apply(lambda x: x[9:])\n",
    "    df['location'] = df['location'].apply(apply_repeated)\n",
    "    df['area'] = df['area'].str.split(',', expand = True)[0]\n",
    "    df['area'] = df['area'].apply(apply_repeated)"
   ]
  },
  {
   "cell_type": "code",
   "execution_count": 118,
   "metadata": {},
   "outputs": [],
   "source": [
    "#modify the classification column\n",
    "def classification(df, filename, classification_index, duplicate_index):\n",
    "    if filename == 'NZ_Banking_JOBS.xlsx':\n",
    "        df.drop(duplicate_index, axis = 1, inplace = True)\n",
    "    df[['classification','Classification']] = df[classification_index].str.split('Classification:', expand = True)\n",
    "    df['Classification'].fillna('unknown', inplace = True)\n",
    "    df['Classification'] = df['Classification'].apply(apply_repeated)\n",
    "    df['classification'] = df['classification'].apply(lambda x: x[15:] if 'classification' in x else 'unknown')\n",
    "    df[['classification1','classification2','classification3']] = df['classification'].str.split('&', expand = True).fillna('unknown')"
   ]
  },
  {
   "cell_type": "code",
   "execution_count": 329,
   "metadata": {},
   "outputs": [],
   "source": [
    "#deal with the salary column\n",
    "def salary(df, filename, classification_index):\n",
    "    import numpy as np\n",
    "    df['salary'] = df[classification_index].apply(lambda x: 'unknown' if 'classification' in x else x)\n",
    "    df.drop('classification', axis = 1, inplace = True)\n",
    "    if filename == 'NZ_Admin_JOBS.xlsx':\n",
    "        df['salary'] = df[df['salary'].str.contains('\\d',na = False)]['salary'].str.replace('5k','5000', regex = True)\n",
    "        df['salary'] = df[df['salary'].str.contains('\\d',na = False)]['salary'].str.replace('0k','0000', regex = True)\n",
    "    df['salary'] = df[df['salary'].str.contains('\\d', na = False)]['salary'].str.replace(' to ', '-', regex = True)\n",
    "    df['salary'] = df[df['salary'].str.contains('\\d', na = False)]['salary'].str.replace(',','')\n",
    "    df['salary'].fillna('unknown', inplace = True)\n",
    "    df[['min_salary','max_salary']] = df['salary'].str.split('-', expand = True)\n",
    "    #deal with min_salary and max_salary\n",
    "    df['min_salary'] = df['min_salary'].str.replace(' ','')\n",
    "    df['max_salary'] = df['max_salary'].str.replace(' ', '')\n",
    "    df['min_salary'] = df[df['min_salary'].str.contains('\\d', na = False)]['min_salary'].str.extract('(\\d+.?\\d+)')\n",
    "    df['max_salary'] = df[df['max_salary'].str.contains('\\d', na = False)]['max_salary'].str.extract('(\\d+.?\\d+)')\n",
    "    df['min_salary'].fillna(0, inplace = True)\n",
    "    df['max_salary'].fillna(0, inplace = True)\n",
    "    for r, row in enumerate(df['min_salary'].values):\n",
    "        if row == 0:\n",
    "            df.loc[r,'min_salary'] = np.random.randint(45000, 75000, size = 1)[0]\n",
    "    for r, row in enumerate(df['max_salary'].values):\n",
    "        if row == 0:\n",
    "            df.loc[r,'max_salary'] = np.random.randint(45000, 75000, size = 1)[0]\n",
    "    df['min_salary'] = df['min_salary'].astype('float')\n",
    "    df['max_salary'] = df['max_salary'].astype('float')\n",
    "    df.loc[df['min_salary'] < 200, 'min_salary'] = df['min_salary']*8*200\n",
    "    df.loc[df['max_salary'] < 200, 'max_salary'] = df['max_salary']*8*200"
   ]
  },
  {
   "cell_type": "code",
   "execution_count": 330,
   "metadata": {},
   "outputs": [],
   "source": [
    "def clean_nz_seek(filename, location_index, classification_index, posted_time_index, duplicate_index):\n",
    "    df = pd.read_excel(filename, header= None)\n",
    "    initial_cleaning(df)\n",
    "    location_area(df, location_index)\n",
    "    classification(df, filename, classification_index, duplicate_index)\n",
    "    salary(df, filename, classification_index)\n",
    "    df.rename(columns={0:'Job Title', 1:'from website', 2:'company name', posted_time_index: 'posted_time'}, inplace = True)\n",
    "    return df"
   ]
  },
  {
   "cell_type": "code",
   "execution_count": 331,
   "metadata": {},
   "outputs": [],
   "source": [
    "df = clean_nz_seek('NZ_Banking_JOBS.xlsx', \n",
    "              location_index = 3,\n",
    "              classification_index = 6, \n",
    "              posted_time_index = 5,\n",
    "              duplicate_index = 4)"
   ]
  },
  {
   "cell_type": "code",
   "execution_count": 333,
   "metadata": {},
   "outputs": [
    {
     "data": {
      "text/html": [
       "<div>\n",
       "<style scoped>\n",
       "    .dataframe tbody tr th:only-of-type {\n",
       "        vertical-align: middle;\n",
       "    }\n",
       "\n",
       "    .dataframe tbody tr th {\n",
       "        vertical-align: top;\n",
       "    }\n",
       "\n",
       "    .dataframe thead th {\n",
       "        text-align: right;\n",
       "    }\n",
       "</style>\n",
       "<table border=\"1\" class=\"dataframe\">\n",
       "  <thead>\n",
       "    <tr style=\"text-align: right;\">\n",
       "      <th></th>\n",
       "      <th>Job Title</th>\n",
       "      <th>from website</th>\n",
       "      <th>company name</th>\n",
       "      <th>posted_time</th>\n",
       "      <th>6</th>\n",
       "      <th>location</th>\n",
       "      <th>area</th>\n",
       "      <th>Classification</th>\n",
       "      <th>classification1</th>\n",
       "      <th>classification2</th>\n",
       "      <th>classification3</th>\n",
       "      <th>salary</th>\n",
       "      <th>min_salary</th>\n",
       "      <th>max_salary</th>\n",
       "    </tr>\n",
       "  </thead>\n",
       "  <tbody>\n",
       "    <tr>\n",
       "      <th>3884</th>\n",
       "      <td>Regulatory and Compliance Manager-12 month con...</td>\n",
       "      <td>https://www.seek.co.nz/job/50575511?type=stand...</td>\n",
       "      <td>at Debbie Graham &amp; Associates Limited</td>\n",
       "      <td>12d ago,at</td>\n",
       "      <td>classification: Banking &amp; Financial ServicesBa...</td>\n",
       "      <td>Auckland</td>\n",
       "      <td>Auckland Central</td>\n",
       "      <td>Compliance &amp; Risk</td>\n",
       "      <td>Banking</td>\n",
       "      <td>Financial ServicesBanking</td>\n",
       "      <td>Financial Servicessub</td>\n",
       "      <td>unknown</td>\n",
       "      <td>0.0</td>\n",
       "      <td>0.0</td>\n",
       "    </tr>\n",
       "  </tbody>\n",
       "</table>\n",
       "</div>"
      ],
      "text/plain": [
       "                                              Job Title  \\\n",
       "3884  Regulatory and Compliance Manager-12 month con...   \n",
       "\n",
       "                                           from website  \\\n",
       "3884  https://www.seek.co.nz/job/50575511?type=stand...   \n",
       "\n",
       "                               company name posted_time  \\\n",
       "3884  at Debbie Graham & Associates Limited  12d ago,at   \n",
       "\n",
       "                                                      6   location  \\\n",
       "3884  classification: Banking & Financial ServicesBa...   Auckland   \n",
       "\n",
       "                   area      Classification classification1  \\\n",
       "3884   Auckland Central   Compliance & Risk        Banking    \n",
       "\n",
       "                  classification2         classification3   salary  \\\n",
       "3884   Financial ServicesBanking    Financial Servicessub  unknown   \n",
       "\n",
       "      min_salary  max_salary  \n",
       "3884         0.0         0.0  "
      ]
     },
     "execution_count": 333,
     "metadata": {},
     "output_type": "execute_result"
    }
   ],
   "source": [
    "df.loc[df['min_salary'] == 0] #3884?"
   ]
  },
  {
   "cell_type": "code",
   "execution_count": null,
   "metadata": {},
   "outputs": [],
   "source": []
  }
 ],
 "metadata": {
  "kernelspec": {
   "display_name": "Python 3",
   "language": "python",
   "name": "python3"
  },
  "language_info": {
   "codemirror_mode": {
    "name": "ipython",
    "version": 3
   },
   "file_extension": ".py",
   "mimetype": "text/x-python",
   "name": "python",
   "nbconvert_exporter": "python",
   "pygments_lexer": "ipython3",
   "version": "3.7.4"
  }
 },
 "nbformat": 4,
 "nbformat_minor": 4
}
