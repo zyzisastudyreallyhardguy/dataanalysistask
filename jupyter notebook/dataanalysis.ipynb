{
 "cells": [
  {
   "cell_type": "markdown",
   "metadata": {},
   "source": [
    "## Data anlaysis task"
   ]
  },
  {
   "cell_type": "code",
   "execution_count": 242,
   "metadata": {},
   "outputs": [],
   "source": [
    "import pandas as pd"
   ]
  },
  {
   "cell_type": "code",
   "execution_count": 243,
   "metadata": {},
   "outputs": [],
   "source": [
    "import re"
   ]
  },
  {
   "cell_type": "code",
   "execution_count": 244,
   "metadata": {},
   "outputs": [],
   "source": [
    "df_admin = pd.read_excel('NZ_Admin_JOBS.xlsx', header= None)"
   ]
  },
  {
   "cell_type": "markdown",
   "metadata": {},
   "source": [
    "### 1.1 Filling missing value"
   ]
  },
  {
   "cell_type": "code",
   "execution_count": 245,
   "metadata": {},
   "outputs": [
    {
     "data": {
      "text/plain": [
       "0     0\n",
       "1     0\n",
       "2    22\n",
       "3     0\n",
       "4     0\n",
       "5     0\n",
       "dtype: int64"
      ]
     },
     "execution_count": 245,
     "metadata": {},
     "output_type": "execute_result"
    }
   ],
   "source": [
    "df_admin.isna().sum()"
   ]
  },
  {
   "cell_type": "code",
   "execution_count": 246,
   "metadata": {},
   "outputs": [],
   "source": [
    "df_admin.fillna('unknown', inplace = True)"
   ]
  },
  {
   "cell_type": "markdown",
   "metadata": {},
   "source": [
    "### 1.2  drop duplicate rows"
   ]
  },
  {
   "cell_type": "code",
   "execution_count": 247,
   "metadata": {},
   "outputs": [],
   "source": [
    "df_admin.drop_duplicates(inplace = True)"
   ]
  },
  {
   "cell_type": "markdown",
   "metadata": {},
   "source": [
    "### 2.  split column 3 into location and area"
   ]
  },
  {
   "cell_type": "code",
   "execution_count": 248,
   "metadata": {},
   "outputs": [],
   "source": [
    "df_admin[['location','area']] = df_admin[3].str.split('area:', expand = True)"
   ]
  },
  {
   "cell_type": "code",
   "execution_count": 249,
   "metadata": {},
   "outputs": [],
   "source": [
    "df_admin.drop(3, axis = 1, inplace = True)"
   ]
  },
  {
   "cell_type": "markdown",
   "metadata": {},
   "source": [
    "#### fillna for the area column"
   ]
  },
  {
   "cell_type": "code",
   "execution_count": 250,
   "metadata": {
    "scrolled": true
   },
   "outputs": [
    {
     "data": {
      "text/plain": [
       "0             0\n",
       "1             0\n",
       "2             0\n",
       "4             0\n",
       "5             0\n",
       "location      0\n",
       "area        541\n",
       "dtype: int64"
      ]
     },
     "execution_count": 250,
     "metadata": {},
     "output_type": "execute_result"
    }
   ],
   "source": [
    "df_admin.isna().sum()"
   ]
  },
  {
   "cell_type": "code",
   "execution_count": 251,
   "metadata": {},
   "outputs": [],
   "source": [
    "df_admin['area'].fillna('unknown', inplace = True)"
   ]
  },
  {
   "cell_type": "markdown",
   "metadata": {},
   "source": [
    "#### modify location column -- get rid of 'location:'"
   ]
  },
  {
   "cell_type": "code",
   "execution_count": 252,
   "metadata": {},
   "outputs": [],
   "source": [
    "def apply_location(x):\n",
    "    return x[9:]"
   ]
  },
  {
   "cell_type": "code",
   "execution_count": 253,
   "metadata": {},
   "outputs": [],
   "source": [
    "df_admin['location'] = df_admin['location'].apply(apply_location)"
   ]
  },
  {
   "cell_type": "markdown",
   "metadata": {},
   "source": [
    "#### modify location -- get rid of repeated text"
   ]
  },
  {
   "cell_type": "code",
   "execution_count": 254,
   "metadata": {},
   "outputs": [],
   "source": [
    "def apply_repeated(x):\n",
    "    middle = len(x)//2\n",
    "    if x != 'unknown':\n",
    "        return x[:middle + 1]\n",
    "    else:\n",
    "        return 'unknown'"
   ]
  },
  {
   "cell_type": "code",
   "execution_count": 255,
   "metadata": {},
   "outputs": [],
   "source": [
    "df_admin['location'] = df_admin['location'].apply(apply_repeated)"
   ]
  },
  {
   "cell_type": "markdown",
   "metadata": {},
   "source": [
    "#### clean the area column (get rid of unrelated information)"
   ]
  },
  {
   "cell_type": "code",
   "execution_count": 256,
   "metadata": {},
   "outputs": [],
   "source": [
    "df_admin['area'] = df_admin['area'].str.split(',', expand = True)[0]"
   ]
  },
  {
   "cell_type": "code",
   "execution_count": 257,
   "metadata": {},
   "outputs": [],
   "source": [
    "df_admin['area'] = df_admin['area'].apply(apply_repeated)"
   ]
  },
  {
   "cell_type": "markdown",
   "metadata": {},
   "source": [
    "### 3. split column 5 into classification/Classification"
   ]
  },
  {
   "cell_type": "code",
   "execution_count": 258,
   "metadata": {},
   "outputs": [],
   "source": [
    "df_admin[['classification','Classification']] = df_admin[5].str.split('Classification:', expand = True)"
   ]
  },
  {
   "cell_type": "code",
   "execution_count": 259,
   "metadata": {},
   "outputs": [],
   "source": [
    "df_admin.drop(5, axis = 1, inplace = True)"
   ]
  },
  {
   "cell_type": "markdown",
   "metadata": {},
   "source": [
    "#### modify the classification column to get rid of \"classification:\""
   ]
  },
  {
   "cell_type": "code",
   "execution_count": 260,
   "metadata": {},
   "outputs": [],
   "source": [
    "def apply_class(x, index):\n",
    "    if '$' not in x:\n",
    "        return x[index:]\n",
    "    else:\n",
    "        return x"
   ]
  },
  {
   "cell_type": "code",
   "execution_count": 261,
   "metadata": {},
   "outputs": [],
   "source": [
    "#df_admin['classification'] = df_admin['classification'].apply(apply_class, args = (15,))"
   ]
  },
  {
   "cell_type": "markdown",
   "metadata": {},
   "source": [
    "#### fillna for the column \"Classification\""
   ]
  },
  {
   "cell_type": "code",
   "execution_count": 262,
   "metadata": {},
   "outputs": [
    {
     "data": {
      "text/plain": [
       "0                   0\n",
       "1                   0\n",
       "2                   0\n",
       "4                   0\n",
       "location            0\n",
       "area                0\n",
       "classification      0\n",
       "Classification    603\n",
       "dtype: int64"
      ]
     },
     "execution_count": 262,
     "metadata": {},
     "output_type": "execute_result"
    }
   ],
   "source": [
    "df_admin.isna().sum()"
   ]
  },
  {
   "cell_type": "code",
   "execution_count": null,
   "metadata": {},
   "outputs": [],
   "source": [
    "df_admin['Classification'].fillna('unknown', inplace = True)"
   ]
  },
  {
   "cell_type": "markdown",
   "metadata": {},
   "source": [
    "#### modify the coloumn Classification - get rid of repeated text"
   ]
  },
  {
   "cell_type": "code",
   "execution_count": 271,
   "metadata": {},
   "outputs": [],
   "source": [
    "df_admin['Classification'] = df_admin['Classification'].apply(apply_repeated)"
   ]
  },
  {
   "cell_type": "markdown",
   "metadata": {},
   "source": [
    "### 4. split column 4 into posted time and featured at"
   ]
  },
  {
   "cell_type": "code",
   "execution_count": 264,
   "metadata": {},
   "outputs": [],
   "source": [
    "df_admin[['posted time','featured at']] = df_admin[4].str.split(',', expand = True)[[0,2]]"
   ]
  },
  {
   "cell_type": "code",
   "execution_count": 266,
   "metadata": {},
   "outputs": [],
   "source": [
    "df_admin.drop(4, axis = 1, inplace = True)"
   ]
  },
  {
   "cell_type": "markdown",
   "metadata": {},
   "source": [
    "#### fillna for featured at"
   ]
  },
  {
   "cell_type": "code",
   "execution_count": 269,
   "metadata": {},
   "outputs": [],
   "source": [
    "df_admin['featured at'].fillna('unknown', inplace = True)"
   ]
  },
  {
   "cell_type": "markdown",
   "metadata": {},
   "source": [
    "### 5. create a new column \"salary\""
   ]
  },
  {
   "cell_type": "code",
   "execution_count": 273,
   "metadata": {},
   "outputs": [],
   "source": [
    "def apply_salary(x):\n",
    "    if 'classification:' in x:\n",
    "        return 'unknown'\n",
    "    else:\n",
    "        return x"
   ]
  },
  {
   "cell_type": "code",
   "execution_count": 277,
   "metadata": {},
   "outputs": [],
   "source": [
    "df_admin['salary'] = df_admin['classification'].apply(apply_salary)"
   ]
  },
  {
   "cell_type": "markdown",
   "metadata": {},
   "source": [
    "### 6. get rid of unrelated information in the classification content"
   ]
  },
  {
   "cell_type": "code",
   "execution_count": 287,
   "metadata": {},
   "outputs": [],
   "source": [
    "def apply_classification(x):\n",
    "    if 'classification:' in x:\n",
    "        return x[15:]\n",
    "    else:\n",
    "        return 'unknown'"
   ]
  },
  {
   "cell_type": "code",
   "execution_count": 290,
   "metadata": {},
   "outputs": [],
   "source": [
    "df_admin['classification'] = df_admin['classification'].apply(apply_classification)"
   ]
  },
  {
   "cell_type": "code",
   "execution_count": 295,
   "metadata": {},
   "outputs": [
    {
     "data": {
      "text/html": [
       "<div>\n",
       "<style scoped>\n",
       "    .dataframe tbody tr th:only-of-type {\n",
       "        vertical-align: middle;\n",
       "    }\n",
       "\n",
       "    .dataframe tbody tr th {\n",
       "        vertical-align: top;\n",
       "    }\n",
       "\n",
       "    .dataframe thead th {\n",
       "        text-align: right;\n",
       "    }\n",
       "</style>\n",
       "<table border=\"1\" class=\"dataframe\">\n",
       "  <thead>\n",
       "    <tr style=\"text-align: right;\">\n",
       "      <th></th>\n",
       "      <th>Job Title</th>\n",
       "      <th>from website</th>\n",
       "      <th>company name</th>\n",
       "      <th>location</th>\n",
       "      <th>area</th>\n",
       "      <th>classification</th>\n",
       "      <th>Classification</th>\n",
       "      <th>posted time</th>\n",
       "      <th>featured at</th>\n",
       "      <th>salary</th>\n",
       "    </tr>\n",
       "  </thead>\n",
       "  <tbody>\n",
       "    <tr>\n",
       "      <th>0</th>\n",
       "      <td>Administrator</td>\n",
       "      <td>https://www.seek.co.nz/job/50582301?type=promo...</td>\n",
       "      <td>unknown</td>\n",
       "      <td>Bay of Plenty</td>\n",
       "      <td>Tauranga</td>\n",
       "      <td>Administration &amp; Office SupportAdministration...</td>\n",
       "      <td>Office Management</td>\n",
       "      <td>Featured</td>\n",
       "      <td>Private Advertiser</td>\n",
       "      <td>unknown</td>\n",
       "    </tr>\n",
       "    <tr>\n",
       "      <th>1</th>\n",
       "      <td>Receptionist</td>\n",
       "      <td>https://www.seek.co.nz/job/50620889?type=promo...</td>\n",
       "      <td>Avenues Orthodontics</td>\n",
       "      <td>Bay of Plenty</td>\n",
       "      <td>Tauranga</td>\n",
       "      <td>Administration &amp; Office SupportAdministration...</td>\n",
       "      <td>Receptionists</td>\n",
       "      <td>Featured</td>\n",
       "      <td>unknown</td>\n",
       "      <td>unknown</td>\n",
       "    </tr>\n",
       "    <tr>\n",
       "      <th>2</th>\n",
       "      <td>Prosecutions Support Officer</td>\n",
       "      <td>https://www.seek.co.nz/job/50622169?type=stand...</td>\n",
       "      <td>New Zealand Police</td>\n",
       "      <td>Auckland</td>\n",
       "      <td>unknown</td>\n",
       "      <td>Administration &amp; Office SupportAdministration...</td>\n",
       "      <td>Other</td>\n",
       "      <td>4d ago</td>\n",
       "      <td>unknown</td>\n",
       "      <td>unknown</td>\n",
       "    </tr>\n",
       "    <tr>\n",
       "      <th>3</th>\n",
       "      <td>Early Childhood Centre Administrator</td>\n",
       "      <td>https://www.seek.co.nz/job/50639620?type=stand...</td>\n",
       "      <td>Kew Pacific Island Early Learning Centre</td>\n",
       "      <td>Southland</td>\n",
       "      <td>Invercargill</td>\n",
       "      <td>Administration &amp; Office SupportAdministration...</td>\n",
       "      <td>Administrative Assistants</td>\n",
       "      <td>1h ago</td>\n",
       "      <td>unknown</td>\n",
       "      <td>unknown</td>\n",
       "    </tr>\n",
       "    <tr>\n",
       "      <th>4</th>\n",
       "      <td>Business Support Administrator</td>\n",
       "      <td>https://www.seek.co.nz/job/50622432?type=stand...</td>\n",
       "      <td>unknown</td>\n",
       "      <td>Canterbury</td>\n",
       "      <td>Christchurch</td>\n",
       "      <td>Administration &amp; Office SupportAdministration...</td>\n",
       "      <td>Client &amp; Sales Administration</td>\n",
       "      <td>4d ago</td>\n",
       "      <td>Private Advertiser</td>\n",
       "      <td>unknown</td>\n",
       "    </tr>\n",
       "    <tr>\n",
       "      <th>...</th>\n",
       "      <td>...</td>\n",
       "      <td>...</td>\n",
       "      <td>...</td>\n",
       "      <td>...</td>\n",
       "      <td>...</td>\n",
       "      <td>...</td>\n",
       "      <td>...</td>\n",
       "      <td>...</td>\n",
       "      <td>...</td>\n",
       "      <td>...</td>\n",
       "    </tr>\n",
       "    <tr>\n",
       "      <th>2703</th>\n",
       "      <td>Key Account Manager</td>\n",
       "      <td>https://www.seek.co.nz/job/50490062?type=stand...</td>\n",
       "      <td>Hays Talent Solutions</td>\n",
       "      <td>Auckland</td>\n",
       "      <td>Auckland Central</td>\n",
       "      <td>Administration &amp; Office SupportAdministration...</td>\n",
       "      <td>Client &amp; Sales Administration</td>\n",
       "      <td>27d ago</td>\n",
       "      <td>unknown</td>\n",
       "      <td>unknown</td>\n",
       "    </tr>\n",
       "    <tr>\n",
       "      <th>2704</th>\n",
       "      <td>Executive Assistant</td>\n",
       "      <td>https://www.seek.co.nz/job/50488000?type=stand...</td>\n",
       "      <td>one eighty recruitment</td>\n",
       "      <td>Wellington</td>\n",
       "      <td>Wellington Central</td>\n",
       "      <td>unknown</td>\n",
       "      <td>unknown</td>\n",
       "      <td>27d ago</td>\n",
       "      <td>unknown</td>\n",
       "      <td>Competitive hourly rate</td>\n",
       "    </tr>\n",
       "    <tr>\n",
       "      <th>2705</th>\n",
       "      <td>Temporary Office Roles</td>\n",
       "      <td>https://www.seek.co.nz/job/50524865?type=stand...</td>\n",
       "      <td>Asset Recruitment Ltd</td>\n",
       "      <td>Waikato</td>\n",
       "      <td>Hamilton</td>\n",
       "      <td>unknown</td>\n",
       "      <td>unknown</td>\n",
       "      <td>20d ago</td>\n",
       "      <td>unknown</td>\n",
       "      <td>Competitive hourly rates $$</td>\n",
       "    </tr>\n",
       "    <tr>\n",
       "      <th>2706</th>\n",
       "      <td>Temporary Office Roles</td>\n",
       "      <td>https://www.seek.co.nz/job/50477118?type=stand...</td>\n",
       "      <td>Asset Recruitment Ltd</td>\n",
       "      <td>Waikato</td>\n",
       "      <td>Hamilton</td>\n",
       "      <td>unknown</td>\n",
       "      <td>unknown</td>\n",
       "      <td>28d ago</td>\n",
       "      <td>unknown</td>\n",
       "      <td>Competitive hourly rates $$</td>\n",
       "    </tr>\n",
       "    <tr>\n",
       "      <th>2707</th>\n",
       "      <td>Executive Assistant</td>\n",
       "      <td>https://www.seek.co.nz/job/50496571?type=stand...</td>\n",
       "      <td>Alpha Recruitment - NZ</td>\n",
       "      <td>Wellington</td>\n",
       "      <td>unknown</td>\n",
       "      <td>Administration &amp; Office SupportAdministration...</td>\n",
       "      <td>PA, EA &amp; Secretarial</td>\n",
       "      <td>26d ago</td>\n",
       "      <td>unknown</td>\n",
       "      <td>unknown</td>\n",
       "    </tr>\n",
       "  </tbody>\n",
       "</table>\n",
       "<p>2708 rows × 10 columns</p>\n",
       "</div>"
      ],
      "text/plain": [
       "                                 Job Title  \\\n",
       "0                            Administrator   \n",
       "1                             Receptionist   \n",
       "2             Prosecutions Support Officer   \n",
       "3     Early Childhood Centre Administrator   \n",
       "4           Business Support Administrator   \n",
       "...                                    ...   \n",
       "2703                   Key Account Manager   \n",
       "2704                   Executive Assistant   \n",
       "2705                Temporary Office Roles   \n",
       "2706                Temporary Office Roles   \n",
       "2707                   Executive Assistant   \n",
       "\n",
       "                                           from website  \\\n",
       "0     https://www.seek.co.nz/job/50582301?type=promo...   \n",
       "1     https://www.seek.co.nz/job/50620889?type=promo...   \n",
       "2     https://www.seek.co.nz/job/50622169?type=stand...   \n",
       "3     https://www.seek.co.nz/job/50639620?type=stand...   \n",
       "4     https://www.seek.co.nz/job/50622432?type=stand...   \n",
       "...                                                 ...   \n",
       "2703  https://www.seek.co.nz/job/50490062?type=stand...   \n",
       "2704  https://www.seek.co.nz/job/50488000?type=stand...   \n",
       "2705  https://www.seek.co.nz/job/50524865?type=stand...   \n",
       "2706  https://www.seek.co.nz/job/50477118?type=stand...   \n",
       "2707  https://www.seek.co.nz/job/50496571?type=stand...   \n",
       "\n",
       "                                  company name        location  \\\n",
       "0                                      unknown   Bay of Plenty   \n",
       "1                         Avenues Orthodontics   Bay of Plenty   \n",
       "2                           New Zealand Police        Auckland   \n",
       "3     Kew Pacific Island Early Learning Centre       Southland   \n",
       "4                                      unknown      Canterbury   \n",
       "...                                        ...             ...   \n",
       "2703                     Hays Talent Solutions        Auckland   \n",
       "2704                    one eighty recruitment      Wellington   \n",
       "2705                     Asset Recruitment Ltd         Waikato   \n",
       "2706                     Asset Recruitment Ltd         Waikato   \n",
       "2707                    Alpha Recruitment - NZ      Wellington   \n",
       "\n",
       "                     area                                     classification  \\\n",
       "0                Tauranga   Administration & Office SupportAdministration...   \n",
       "1                Tauranga   Administration & Office SupportAdministration...   \n",
       "2                 unknown   Administration & Office SupportAdministration...   \n",
       "3            Invercargill   Administration & Office SupportAdministration...   \n",
       "4            Christchurch   Administration & Office SupportAdministration...   \n",
       "...                   ...                                                ...   \n",
       "2703     Auckland Central   Administration & Office SupportAdministration...   \n",
       "2704   Wellington Central                                            unknown   \n",
       "2705             Hamilton                                            unknown   \n",
       "2706             Hamilton                                            unknown   \n",
       "2707              unknown   Administration & Office SupportAdministration...   \n",
       "\n",
       "                      Classification posted time         featured at  \\\n",
       "0                  Office Management    Featured  Private Advertiser   \n",
       "1                      Receptionists    Featured             unknown   \n",
       "2                              Other      4d ago             unknown   \n",
       "3          Administrative Assistants      1h ago             unknown   \n",
       "4      Client & Sales Administration      4d ago  Private Advertiser   \n",
       "...                              ...         ...                 ...   \n",
       "2703   Client & Sales Administration     27d ago             unknown   \n",
       "2704                         unknown     27d ago             unknown   \n",
       "2705                         unknown     20d ago             unknown   \n",
       "2706                         unknown     28d ago             unknown   \n",
       "2707            PA, EA & Secretarial     26d ago             unknown   \n",
       "\n",
       "                           salary  \n",
       "0                         unknown  \n",
       "1                         unknown  \n",
       "2                         unknown  \n",
       "3                         unknown  \n",
       "4                         unknown  \n",
       "...                           ...  \n",
       "2703                      unknown  \n",
       "2704      Competitive hourly rate  \n",
       "2705  Competitive hourly rates $$  \n",
       "2706  Competitive hourly rates $$  \n",
       "2707                      unknown  \n",
       "\n",
       "[2708 rows x 10 columns]"
      ]
     },
     "execution_count": 295,
     "metadata": {},
     "output_type": "execute_result"
    }
   ],
   "source": [
    "df_admin.rename(columns={0:'Job Title', 1:'from website', 2:'company name'})"
   ]
  },
  {
   "cell_type": "code",
   "execution_count": null,
   "metadata": {},
   "outputs": [],
   "source": []
  }
 ],
 "metadata": {
  "kernelspec": {
   "display_name": "Python 3",
   "language": "python",
   "name": "python3"
  },
  "language_info": {
   "codemirror_mode": {
    "name": "ipython",
    "version": 3
   },
   "file_extension": ".py",
   "mimetype": "text/x-python",
   "name": "python",
   "nbconvert_exporter": "python",
   "pygments_lexer": "ipython3",
   "version": "3.7.4"
  }
 },
 "nbformat": 4,
 "nbformat_minor": 2
}
